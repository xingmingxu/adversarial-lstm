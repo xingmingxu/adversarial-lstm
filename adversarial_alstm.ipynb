{
  "nbformat": 4,
  "nbformat_minor": 0,
  "metadata": {
    "colab": {
      "provenance": []
    },
    "kernelspec": {
      "name": "python3",
      "display_name": "Python 3"
    },
    "language_info": {
      "name": "python"
    }
  },
  "cells": [
    {
      "cell_type": "markdown",
      "source": [
        "Adversarial ALSTM as described in \"Enhancing Stock Movement Prediction with Adversarial Training\".\n",
        "\n",
        "Using eager execution for the experimental component/toy example, then moving to a computational graph once refined."
      ],
      "metadata": {
        "id": "rziKGtyWRlGZ"
      }
    },
    {
      "cell_type": "code",
      "source": [
        "# Libraries\n",
        "\n",
        "import argparse\n",
        "import copy\n",
        "import numpy as np\n",
        "import os\n",
        "import random\n",
        "from sklearn.utils import shuffle\n",
        "import tensorflow as tf\n",
        "from time import time\n",
        "\n",
        "try:\n",
        "    from tensorflow.python.ops.nn_ops import leaky_relu\n",
        "except ImportError:\n",
        "    from tensorflow.python.framework import ops\n",
        "    from tensorflow.python.ops import math_ops\n",
        "\n",
        "    # Custom leaky ReLU to\n",
        "    def leaky_relu(features, alpha=0.2, name=None):\n",
        "        with ops.name_scope(name, \"LeakyRelu\", [features, alpha]):\n",
        "            features = ops.convert_to_tensor(features, name=\"features\")\n",
        "            alpha = ops.convert_to_tensor(alpha, name=\"alpha\")\n",
        "            return math_ops.maximum(alpha * features, features)\n",
        "\n",
        "# Load data\n",
        "\n",
        "from datetime import datetime\n",
        "import numpy as np\n",
        "import os"
      ],
      "metadata": {
        "id": "mLpmLHK2ZZtO"
      },
      "execution_count": null,
      "outputs": []
    },
    {
      "cell_type": "code",
      "source": [
        "def load_data_temp(data_path, tra_date, val_date, tes_date,\n",
        "                   seq=2, date_format='%Y-%m-%d'):\n",
        "  fnames = [f for f in os.listdir(data_path)\n",
        "            if os.path.isfile(os.path.join(data_path, f))]\n",
        "  print(fnames)\n",
        "\n",
        "  data_EOD = []\n",
        "\n",
        "  # Obtain all those fnames\n",
        "  for index, fname in enumerate(fnames):\n",
        "    #print(fname)\n",
        "    single_EOD = np.genfromtxt(\n",
        "        os.path.join(data_path, fname), dtype=float, delimiter=',',\n",
        "        skip_header=False\n",
        "    )\n",
        "    #print('data shape:', single_EOD.shape)\n",
        "    data_EOD.append(single_EOD)\n",
        "  fea_dim = data_EOD[0].shape[1] - 2\n",
        "  #print(fea_dim)\n",
        "  print(data_EOD[0][0])\n",
        "\n",
        "  trading_dates = np.genfromtxt(\n",
        "    'trading_dates.csv', dtype=str,\n",
        "    delimiter=',', skip_header=False\n",
        "  )\n",
        "\n",
        "  print(trading_dates)\n",
        "\n",
        "  # One-hot encode the weekdays of training dates\n",
        "  dates_index = {}\n",
        "  data_wd = np.zeros([len(trading_dates), 5], dtype=float)\n",
        "  wd_encodings = np.identity(5, dtype=float)\n",
        "  for index, date in enumerate(trading_dates):\n",
        "      dates_index[date] = index\n",
        "      # indices_weekday[index] = datetime.strptime(date, date_format).weekday()\n",
        "      data_wd[index] = wd_encodings[datetime.strptime(date, date_format).weekday()]\n",
        "  #print(data_wd)\n",
        "\n",
        "  tra_ind = dates_index[tra_date]\n",
        "  val_ind = dates_index[val_date]\n",
        "  tes_ind = dates_index[tes_date]\n",
        "  print(tra_ind, val_ind, tes_ind)\n",
        "\n",
        "  tra_ind = dates_index[tra_date]\n",
        "  val_ind = dates_index[val_date]\n",
        "  tes_ind = dates_index[tes_date]\n",
        "  print(tra_ind, val_ind, tes_ind)\n",
        "\n",
        "  # count training, validation, and testing instances\n",
        "  tra_num = 0\n",
        "  val_num = 0\n",
        "  tes_num = 0\n",
        "\n",
        "  print(data_EOD[0].shape)\n",
        "  print(data_EOD[1].shape)\n",
        "  print(data_EOD[2].shape)\n",
        "  print(data_EOD[3].shape)\n",
        "  print(data_EOD[4].shape)\n",
        "\n",
        "  # training\n",
        "  for date_ind in range(tra_ind, val_ind):\n",
        "    # filter out instances without length enough history\n",
        "    if date_ind < seq:\n",
        "      continue\n",
        "    for tic_ind in range(len(fnames)):\n",
        "      if abs(data_EOD[tic_ind][date_ind][-2]) > 1e-8:\n",
        "        if data_EOD[tic_ind][date_ind - seq: date_ind, :].min() > -123320:\n",
        "          tra_num += 1\n",
        "  print(tra_num, ' training instances')\n",
        "\n",
        "  # validation\n",
        "  for date_ind in range(val_ind, tes_ind):\n",
        "    # filter out instances without length enough history\n",
        "    if date_ind < seq:\n",
        "      continue\n",
        "    for tic_ind in range(len(fnames)):\n",
        "      if abs(data_EOD[tic_ind][date_ind][-2]) > 1e-8:\n",
        "        if data_EOD[tic_ind][date_ind - seq: date_ind, :].min() > -123320:\n",
        "          val_num += 1\n",
        "  print(val_num, ' validation instances')\n",
        "\n",
        "  # testing\n",
        "  for date_ind in range(tes_ind, len(trading_dates)):\n",
        "    # filter out instances without length enough history\n",
        "    if date_ind < seq:\n",
        "      continue\n",
        "    for tic_ind in range(len(fnames)):\n",
        "      if abs(data_EOD[tic_ind][date_ind][-2]) > 1e-8:\n",
        "        if data_EOD[tic_ind][date_ind - seq: date_ind, :].min() > -123320:\n",
        "          tes_num += 1\n",
        "  print(tes_num, ' testing instances')\n",
        "\n",
        "  # generate training, validation, and testing instances\n",
        "  # training\n",
        "  tra_pv = np.zeros([tra_num, seq, fea_dim], dtype=float)\n",
        "  tra_wd = np.zeros([tra_num, seq, 5], dtype=float)\n",
        "  tra_gt = np.zeros([tra_num, 1], dtype=float)\n",
        "  ins_ind = 0\n",
        "  for date_ind in range(tra_ind, val_ind):\n",
        "    # filter out instances without length enough history\n",
        "    if date_ind < seq:\n",
        "      continue\n",
        "    for tic_ind in range(len(fnames)):\n",
        "        if abs(data_EOD[tic_ind][date_ind][-2]) > 1e-8 and \\\n",
        "                data_EOD[tic_ind][date_ind - seq: date_ind, :].min() > -123320:\n",
        "          tra_pv[ins_ind] = data_EOD[tic_ind][date_ind - seq: date_ind, : -2]\n",
        "          tra_wd[ins_ind] = data_wd[date_ind - seq: date_ind, :]\n",
        "          tra_gt[ins_ind, 0] = (data_EOD[tic_ind][date_ind][-2] + 1) / 2\n",
        "          ins_ind += 1\n",
        "\n",
        "  # validation\n",
        "  val_pv = np.zeros([val_num, seq, fea_dim], dtype=float)\n",
        "  val_wd = np.zeros([val_num, seq, 5], dtype=float)\n",
        "  val_gt = np.zeros([val_num, 1], dtype=float)\n",
        "  ins_ind = 0\n",
        "  for date_ind in range(val_ind, tes_ind):\n",
        "    # filter out instances without length enough history\n",
        "    if date_ind < seq:\n",
        "      continue\n",
        "    for tic_ind in range(len(fnames)):\n",
        "      if abs(data_EOD[tic_ind][date_ind][-2]) > 1e-8 and \\\n",
        "                      data_EOD[tic_ind][date_ind - seq: date_ind, :].min() > -123320:\n",
        "        val_pv[ins_ind] = data_EOD[tic_ind][date_ind - seq: date_ind, :-2]\n",
        "        val_wd[ins_ind] = data_wd[date_ind - seq: date_ind, :]\n",
        "        val_gt[ins_ind, 0] = (data_EOD[tic_ind][date_ind][-2] + 1) / 2\n",
        "        ins_ind += 1\n",
        "\n",
        "  # testing\n",
        "  tes_pv = np.zeros([tes_num, seq, fea_dim], dtype=float)\n",
        "  tes_wd = np.zeros([tes_num, seq, 5], dtype=float)\n",
        "  tes_gt = np.zeros([tes_num, 1], dtype=float)\n",
        "  ins_ind = 0\n",
        "  for date_ind in range(tes_ind, len(trading_dates)):\n",
        "    # filter out instances without length enough history\n",
        "    if date_ind < seq:\n",
        "      continue\n",
        "    for tic_ind in range(len(fnames)):\n",
        "      if abs(data_EOD[tic_ind][date_ind][-2]) > 1e-8 and \\\n",
        "                        data_EOD[tic_ind][date_ind - seq: date_ind, :].min() > -123320:\n",
        "        tes_pv[ins_ind] = data_EOD[tic_ind][date_ind - seq: date_ind, :-2]\n",
        "        # # for the momentum indicator\n",
        "        # tes_pv[ins_ind, -1, -1] = data_EOD[tic_ind][date_ind - 1, -1] - data_EOD[tic_ind][date_ind - 11, -1]\n",
        "        tes_wd[ins_ind] = data_wd[date_ind - seq: date_ind, :]\n",
        "        tes_gt[ins_ind, 0] = (data_EOD[tic_ind][date_ind][-2] + 1) / 2\n",
        "        ins_ind += 1\n",
        "  return tra_pv, tra_wd, tra_gt, val_pv, val_wd, val_gt, tes_pv, tes_wd, tes_gt\n",
        "\n",
        "#print(things)"
      ],
      "metadata": {
        "id": "Ghbgt-2CfI8P"
      },
      "execution_count": null,
      "outputs": []
    },
    {
      "cell_type": "code",
      "source": [
        "# Retrieve information\n",
        "# TODO: Move into class\n",
        "tra_pv, tra_wd, tra_gt, val_pv, val_wd, val_gt, tes_pv, tes_wd, tes_gt = load_data_temp(\n",
        "    data_path=\"tickers\", tra_date='2014-01-02',\n",
        "    val_date='2015-08-03', tes_date='2015-10-01')"
      ],
      "metadata": {
        "colab": {
          "base_uri": "https://localhost:8080/"
        },
        "id": "Cq4sx8oSAM1x",
        "outputId": "60161a0c-e7c7-4165-abc2-da7dcf8970d0"
      },
      "execution_count": null,
      "outputs": [
        {
          "output_type": "stream",
          "name": "stdout",
          "text": [
            "['CMCSA.csv', 'BHP.csv', 'BA.csv', 'AAPL.csv', 'BAC.csv', 'BRK-B.csv', 'D.csv', 'CVX.csv', 'CHL.csv', 'DCM.csv', 'AMZN.csv']\n",
            "[-123321. -123321. -123321. -123321. -123321. -123321. -123321. -123321.\n",
            " -123321. -123321. -123321. -123321. -123321.]\n",
            "['2007-01-03' '2007-01-04' '2007-01-05' ... '2016-12-28' '2016-12-29'\n",
            " '2016-12-30']\n",
            "1762 2160 2202\n",
            "1762 2160 2202\n",
            "(2518, 13)\n",
            "(2518, 13)\n",
            "(2518, 13)\n",
            "(2518, 13)\n",
            "(2518, 13)\n",
            "2704  training instances\n",
            "332  validation instances\n",
            "2268  testing instances\n"
          ]
        }
      ]
    },
    {
      "cell_type": "code",
      "source": [
        "print(\"Training\", tra_pv[0:3], tra_wd[0:3], tra_gt[0:3])\n",
        "print(\"Validation\", val_pv[0:3], val_wd[0:3], val_gt[0:3])\n",
        "print(\"Test\", tes_pv[0:3], tes_wd[0:3], tes_gt[0:3])"
      ],
      "metadata": {
        "colab": {
          "base_uri": "https://localhost:8080/"
        },
        "id": "h77NyfUMdlEQ",
        "outputId": "5899ff06-1273-4e97-fed9-b3ae1d5fa431"
      },
      "execution_count": null,
      "outputs": [
        {
          "output_type": "stream",
          "name": "stdout",
          "text": [
            "Training [[[-0.597644  0.289186 -0.616927  0.154466  0.532993 -1.034899 -2.447728\n",
            "   -3.611381 -4.169199 -4.216563 -5.015754]\n",
            "  [-0.173177  0.230901 -0.500292  0.192794  0.192793 -0.774305 -2.074462\n",
            "   -3.410089 -4.061608 -4.19795  -4.915045]]\n",
            "\n",
            " [[-0.38388   0.310053 -0.472463  0.474706  0.474706 -0.992179 -2.709292\n",
            "   -2.941095 -2.500373 -1.769973 -0.77514 ]\n",
            "  [-1.070375  0.       -1.070375  0.693923  0.693923 -1.12023  -2.793252\n",
            "   -3.525901 -3.077709 -2.496183 -1.613876]]\n",
            "\n",
            " [[ 0.530196  1.004474 -0.396739 -0.994484 -0.994484  1.575057  0.501517\n",
            "    0.763665  0.914216  0.055978 -0.995033]\n",
            "  [-1.220987  0.04634  -1.251288  1.172188  1.172188  0.074862 -0.600158\n",
            "   -0.468077 -0.167731 -0.809384 -1.928037]]] [[[1. 0. 0. 0. 0.]\n",
            "  [0. 1. 0. 0. 0.]]\n",
            "\n",
            " [[1. 0. 0. 0. 0.]\n",
            "  [0. 1. 0. 0. 0.]]\n",
            "\n",
            " [[1. 0. 0. 0. 0.]\n",
            "  [0. 1. 0. 0. 0.]]] [[0.]\n",
            " [0.]\n",
            " [0.]]\n",
            "Validation [[[ 0.064145  0.465043 -0.529189 -0.19206  -0.19206  -0.407313  1.084026\n",
            "    1.409021  0.965361  0.273353 -0.30442 ]\n",
            "  [ 0.608878  0.929341 -0.432625  0.080178  0.080179 -0.410191  0.705015\n",
            "    1.244458  0.890081  0.307001 -0.268029]]\n",
            "\n",
            " [[ 0.760548  1.049037 -0.629431 -0.443859 -0.443859 -2.192504 -0.482563\n",
            "    1.14695   1.514553  3.132439  5.26794 ]\n",
            "  [ 2.215278  2.267404 -0.10424   0.62942   0.62942  -1.725305 -1.415167\n",
            "    0.323171  0.499091  1.96925   4.096085]]\n",
            "\n",
            " [[-0.040862  0.163436 -0.539351 -0.504102 -0.504102  0.679902  2.870799\n",
            "    2.896132  2.536567  2.649013  2.898856]\n",
            "  [ 1.071719  1.104696 -0.321516 -0.874397 -0.874398  1.040393  3.092332\n",
            "    3.694969  3.229182  3.350039  3.625719]]] [[[0. 0. 0. 1. 0.]\n",
            "  [0. 0. 0. 0. 1.]]\n",
            "\n",
            " [[0. 0. 0. 1. 0.]\n",
            "  [0. 0. 0. 0. 1.]]\n",
            "\n",
            " [[0. 0. 0. 1. 0.]\n",
            "  [0. 0. 0. 0. 1.]]] [[1.]\n",
            " [0.]\n",
            " [0.]]\n",
            "Test [[[ 0.036273  1.070005 -0.652884  0.602076  0.602077  1.806312  3.355096\n",
            "    3.120542  2.730323  2.43308   2.841857]\n",
            "  [-2.144868  0.158228 -2.355837  3.155608  3.155607 -1.480311  0.042191\n",
            "   -0.009379 -0.248772 -0.487344 -0.468826]]\n",
            "\n",
            " [[ 0.227787  0.423043 -1.008786  0.82021   0.820209  2.518714  7.390174\n",
            "    8.549736  8.546437  9.002789  9.204475]\n",
            "  [-1.707783  0.158125 -1.739409  2.896196  2.896197 -0.702089  3.137253\n",
            "    4.984184  5.292482  5.917296  5.729761]]\n",
            "\n",
            " [[ 3.456816  4.080327 -1.100309 -3.006051 -3.006052  3.709886  4.338898\n",
            "    4.312001  3.54163   3.093712  2.814661]\n",
            "  [-0.117865  1.124205 -1.423391  1.136993  1.136993  1.815048  2.611964\n",
            "    3.14838   2.494557  2.172617  1.471439]]] [[[0. 1. 0. 0. 0.]\n",
            "  [0. 0. 1. 0. 0.]]\n",
            "\n",
            " [[0. 1. 0. 0. 0.]\n",
            "  [0. 0. 1. 0. 0.]]\n",
            "\n",
            " [[0. 1. 0. 0. 0.]\n",
            "  [0. 0. 1. 0. 0.]]] [[1.]\n",
            " [1.]\n",
            " [0.]]\n"
          ]
        }
      ]
    },
    {
      "cell_type": "code",
      "source": [
        "device_name = '/gpu:0'\n",
        "tf.random.set_seed(20241029)\n",
        "print('device name:', device_name)"
      ],
      "metadata": {
        "colab": {
          "base_uri": "https://localhost:8080/"
        },
        "id": "MusR3MbbjzQk",
        "outputId": "815f782c-0893-4d90-9715-db0d73b1302e"
      },
      "execution_count": null,
      "outputs": [
        {
          "output_type": "stream",
          "name": "stdout",
          "text": [
            "device name: /gpu:0\n"
          ]
        }
      ]
    },
    {
      "cell_type": "code",
      "source": [
        "# Default params:\n",
        "seq = 5\n",
        "steps = 1\n",
        "batch_size = 1024\n",
        "epoch = 150\n",
        "learning_rate = 0.02\n",
        "units = 32\n",
        "\n",
        "# Loss functions\n",
        "loss = 0\n",
        "adv_loss = 0\n",
        "l2_norm = 0"
      ],
      "metadata": {
        "id": "j0GAqUMxkJik"
      },
      "execution_count": null,
      "outputs": []
    },
    {
      "cell_type": "code",
      "source": [
        "# Really basic batching\n",
        "\n",
        "batch_size = 32\n",
        "\n",
        "def get_batch(sta_ind=None):\n",
        "  if sta_ind is None:\n",
        "      sta_ind = random.randrange(0, tra_pv.shape[0])\n",
        "  if sta_ind + batch_size < tra_pv.shape[0]:\n",
        "      end_ind = sta_ind + batch_size\n",
        "  else:\n",
        "      sta_ind = tra_pv.shape[0] - batch_size\n",
        "      end_ind = tra_pv.shape[0]\n",
        "  return tra_pv[sta_ind:end_ind, :, :], \\\n",
        "          tra_wd[sta_ind:end_ind, :, :], \\\n",
        "          tra_gt[sta_ind:end_ind, :]"
      ],
      "metadata": {
        "id": "bK4-IVxoJ7NY"
      },
      "execution_count": null,
      "outputs": []
    },
    {
      "cell_type": "code",
      "source": [
        "# Set up Input, LSTM\n",
        "\n",
        "# NOTE: Initialzers set initial random weights\n",
        "\n",
        "fea_dim = tra_pv.shape[2]\n",
        "print(fea_dim)\n",
        "\n",
        "gt_var = tf.constant([0,0], dtype=tf.float32)\n",
        "pv = tf.random.normal([32, seq, ])\n",
        "wd = tf.random.normal([32, seq, 5])\n",
        "\n",
        "sample_input = tf.random.normal([32, seq, fea_dim])\n",
        "\n",
        "dense_layer = tf.keras.layers.Dense(\n",
        "    units=fea_dim,\n",
        "    activation=tf.nn.tanh,\n",
        "    kernel_initializer=tf.keras.initializers.glorot_uniform(),\n",
        "    name = 'input_layer'\n",
        ")\n",
        "\n",
        "lstm_layer = tf.keras.layers.LSTM(\n",
        "    units=units,  # Number of LSTM units\n",
        "    return_sequences=True,      # Whether to return the full sequence of outputs\n",
        "    name = 'lstm_layer'\n",
        ")\n",
        "\n",
        "in_lat = dense_layer(sample_input)\n",
        "print(in_lat.shape)\n",
        "# Pass the transformed input through the LSTM layer\n",
        "outputs = lstm_layer(in_lat)\n",
        "print(outputs.shape)"
      ],
      "metadata": {
        "colab": {
          "base_uri": "https://localhost:8080/"
        },
        "id": "4izZp-N8wZm-",
        "outputId": "4b8e711b-2009-4b08-e285-9dc81233e538"
      },
      "execution_count": null,
      "outputs": [
        {
          "output_type": "stream",
          "name": "stdout",
          "text": [
            "11\n",
            "(32, 5, 11)\n",
            "(32, 5, 32)\n"
          ]
        }
      ]
    },
    {
      "cell_type": "markdown",
      "source": [
        "![image.png](data:image/png;base64,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)"
      ],
      "metadata": {
        "id": "ZLQvwBt0RvVL"
      }
    },
    {
      "cell_type": "code",
      "source": [
        "# Retrieve Latent representation\n",
        "att_W = tf.Variable(\n",
        "    tf.random.uniform([units, units], dtype=tf.float32),\n",
        "    name='att_W'\n",
        ")\n",
        "att_b = tf.Variable(\n",
        "    tf.zeros([units], dtype=tf.float32),\n",
        "    name='att_b'\n",
        ")\n",
        "att_u = tf.Variable(\n",
        "    tf.random.uniform([units], dtype=tf.float32),\n",
        "    name='att_u'\n",
        ")\n",
        "\n",
        "a_laten = tf.tanh(tf.tensordot(outputs, att_W, axes=1) + att_b)\n",
        "\n",
        "# Compute attention scores\n",
        "# ua (dot) tanh(Waht + ba)\n",
        "a_scores = tf.tensordot(a_laten, att_u, axes=1)\n",
        "\n",
        "# Apply softmax to get attention weights\n",
        "a_alphas = tf.nn.softmax(a_scores, axis=1)\n",
        "\n",
        "# Weighted sum of outputs with attention weights\n",
        "# a^s = sum_{i=1}^T a_alphas * outputs\n",
        "a_con = tf.reduce_sum(outputs * tf.expand_dims(a_alphas, -1), axis=1)\n",
        "\n",
        "fea_con = tf.concat([outputs[:, -1, :], a_con],axis=1)\n",
        "\n",
        "print(fea_con)"
      ],
      "metadata": {
        "colab": {
          "base_uri": "https://localhost:8080/"
        },
        "id": "W6jlygmOxVeK",
        "outputId": "02568d84-4fbb-44df-8fc8-c615158bfd6b"
      },
      "execution_count": null,
      "outputs": [
        {
          "output_type": "stream",
          "name": "stdout",
          "text": [
            "tf.Tensor(\n",
            "[[-0.01702776  0.09934065  0.07856461 ...  0.01941139 -0.01365364\n",
            "   0.01684877]\n",
            " [-0.00433053 -0.03607856 -0.00824117 ... -0.04701608 -0.00229451\n",
            "   0.0724311 ]\n",
            " [ 0.09101734 -0.08447144  0.10019642 ...  0.00806728  0.09209251\n",
            "  -0.03118846]\n",
            " ...\n",
            " [-0.04617798 -0.03367228  0.11707288 ...  0.06594326  0.13755818\n",
            "   0.00351808]\n",
            " [ 0.00153669 -0.13668238 -0.06497682 ...  0.02003976  0.08278851\n",
            "   0.02420886]\n",
            " [-0.00883268 -0.04638832 -0.08593844 ...  0.02788088  0.12517956\n",
            "  -0.08268254]], shape=(32, 64), dtype=float32)\n"
          ]
        }
      ]
    },
    {
      "cell_type": "code",
      "source": [
        "# Final temporary prediction\n",
        "predictive_fc = tf.keras.layers.Dense(\n",
        "    units=1,\n",
        "    kernel_initializer=tf.keras.initializers.GlorotUniform(),\n",
        "    name='predictive_fc'\n",
        ")\n",
        "\n",
        "# Predictive layer to compute confidence score y_hat_s\n",
        "y_hat_s = predictive_fc(fea_con)  # Shape: [batch_size, 1]\n",
        "\n",
        "# Final prediction: sign of y_hat_s\n",
        "y_pred = tf.sign(y_hat_s)  # Shape: [batch_size, 1]\n",
        "print(y_pred)"
      ],
      "metadata": {
        "colab": {
          "base_uri": "https://localhost:8080/"
        },
        "id": "mHZ_eI-HFR69",
        "outputId": "e8b81801-77c5-4e45-91a9-e7d3328f8f6c"
      },
      "execution_count": null,
      "outputs": [
        {
          "output_type": "stream",
          "name": "stdout",
          "text": [
            "tf.Tensor(\n",
            "[[ 1.]\n",
            " [ 1.]\n",
            " [ 1.]\n",
            " [-1.]\n",
            " [ 1.]\n",
            " [-1.]\n",
            " [ 1.]\n",
            " [ 1.]\n",
            " [ 1.]\n",
            " [-1.]\n",
            " [-1.]\n",
            " [ 1.]\n",
            " [-1.]\n",
            " [ 1.]\n",
            " [ 1.]\n",
            " [ 1.]\n",
            " [ 1.]\n",
            " [-1.]\n",
            " [-1.]\n",
            " [ 1.]\n",
            " [-1.]\n",
            " [ 1.]\n",
            " [-1.]\n",
            " [ 1.]\n",
            " [-1.]\n",
            " [ 1.]\n",
            " [ 1.]\n",
            " [ 1.]\n",
            " [ 1.]\n",
            " [ 1.]\n",
            " [-1.]\n",
            " [ 1.]], shape=(32, 1), dtype=float32)\n"
          ]
        }
      ]
    },
    {
      "cell_type": "code",
      "source": [
        "batch_num = len(tra_gt) // batch_size\n",
        "batch_num += 1 if len(tra_gt) % batch_size != 0 else 0\n",
        "print(batch_num)\n",
        "\n",
        "# for i in range(batch_num):\n",
        "  # Do the above\n",
        "  #predictive_loss = tf.keras.losses.BinaryCrossentropy(from_logits=True)"
      ],
      "metadata": {
        "colab": {
          "base_uri": "https://localhost:8080/"
        },
        "id": "xq4Ir31VKVBv",
        "outputId": "a24ef663-3e2d-497b-89a5-e8a20ce06cbe"
      },
      "execution_count": null,
      "outputs": [
        {
          "output_type": "stream",
          "name": "stdout",
          "text": [
            "84.5\n"
          ]
        }
      ]
    }
  ]
}